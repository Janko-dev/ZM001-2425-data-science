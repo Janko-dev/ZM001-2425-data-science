{
 "cells": [
  {
   "cell_type": "markdown",
   "metadata": {},
   "source": [
    "# Getting started with Jupyter Notebooks for Data Science\n",
    "\n",
    "- Code cells for Python\n",
    "- Markdown cells for explanations "
   ]
  },
  {
   "cell_type": "code",
   "execution_count": 1,
   "metadata": {},
   "outputs": [],
   "source": [
    "# usual imports with shorthand abbreviations\n",
    "import matplotlib.pyplot as plt\n",
    "import numpy as np\n",
    "import pandas as pd\n",
    "import seaborn as sns"
   ]
  },
  {
   "cell_type": "markdown",
   "metadata": {},
   "source": [
    "## NumPy basics\n",
    "\n",
    "- Library for numeric operations on arrays\n",
    "- Arrays can have a single dimension (vectors), two dimensions (matrix), or more than two dimensions (tensor)\n",
    "- Pandas dataframes make use of NumPy to store the data"
   ]
  },
  {
   "cell_type": "code",
<<<<<<< HEAD
   "execution_count": 4,
=======
   "execution_count": 2,
>>>>>>> a458808f55ab66d8895f5e7633d2a81dd9c297a5
   "metadata": {},
   "outputs": [
    {
     "data": {
      "text/plain": [
       "array([1, 2, 3, 4, 5, 0])"
      ]
     },
<<<<<<< HEAD
     "execution_count": 4,
=======
     "execution_count": 2,
>>>>>>> a458808f55ab66d8895f5e7633d2a81dd9c297a5
     "metadata": {},
     "output_type": "execute_result"
    }
   ],
   "source": [
    "# 1-D array is a vector\n",
    "vector = np.array([1, 2, 3, 4, 5, 0])\n",
    "\n",
    "vector"
   ]
  },
  {
   "cell_type": "code",
<<<<<<< HEAD
   "execution_count": 5,
=======
   "execution_count": 3,
>>>>>>> a458808f55ab66d8895f5e7633d2a81dd9c297a5
   "metadata": {},
   "outputs": [
    {
     "data": {
      "text/plain": [
       "(6,)"
      ]
     },
<<<<<<< HEAD
     "execution_count": 5,
=======
     "execution_count": 3,
>>>>>>> a458808f55ab66d8895f5e7633d2a81dd9c297a5
     "metadata": {},
     "output_type": "execute_result"
    }
   ],
   "source": [
    "# shape property tells you the dimensionality\n",
    "vector.shape"
   ]
  },
  {
   "cell_type": "code",
<<<<<<< HEAD
   "execution_count": 6,
=======
   "execution_count": 4,
>>>>>>> a458808f55ab66d8895f5e7633d2a81dd9c297a5
   "metadata": {},
   "outputs": [
    {
     "data": {
      "text/plain": [
       "array([ 6,  7,  8,  9, 10,  5])"
      ]
     },
<<<<<<< HEAD
     "execution_count": 6,
=======
     "execution_count": 4,
>>>>>>> a458808f55ab66d8895f5e7633d2a81dd9c297a5
     "metadata": {},
     "output_type": "execute_result"
    }
   ],
   "source": [
    "# adding a singular value adds it to all values in the array\n",
    "vector + 5"
   ]
  },
  {
   "cell_type": "code",
<<<<<<< HEAD
   "execution_count": 7,
=======
   "execution_count": 5,
>>>>>>> a458808f55ab66d8895f5e7633d2a81dd9c297a5
   "metadata": {},
   "outputs": [
    {
     "data": {
      "text/plain": [
       "array([ 2,  4,  6,  8, 10,  0])"
      ]
     },
<<<<<<< HEAD
     "execution_count": 7,
=======
     "execution_count": 5,
>>>>>>> a458808f55ab66d8895f5e7633d2a81dd9c297a5
     "metadata": {},
     "output_type": "execute_result"
    }
   ],
   "source": [
    "# likewise with multiplication\n",
    "vector * 2"
   ]
  },
  {
   "cell_type": "code",
<<<<<<< HEAD
   "execution_count": 8,
=======
   "execution_count": 6,
>>>>>>> a458808f55ab66d8895f5e7633d2a81dd9c297a5
   "metadata": {},
   "outputs": [
    {
     "data": {
      "text/plain": [
       "(array([[1, 2, 3],\n",
       "        [4, 5, 6]]),\n",
       " (2, 3))"
      ]
     },
<<<<<<< HEAD
     "execution_count": 8,
=======
     "execution_count": 6,
>>>>>>> a458808f55ab66d8895f5e7633d2a81dd9c297a5
     "metadata": {},
     "output_type": "execute_result"
    }
   ],
   "source": [
    "# 2-D array is called a matrix\n",
    "matrix = np.array([\n",
    "    [1, 2, 3],\n",
    "    [4, 5, 6]\n",
    "])\n",
    "\n",
    "matrix, matrix.shape"
   ]
  },
  {
   "cell_type": "code",
<<<<<<< HEAD
   "execution_count": 9,
=======
   "execution_count": 7,
>>>>>>> a458808f55ab66d8895f5e7633d2a81dd9c297a5
   "metadata": {},
   "outputs": [
    {
     "data": {
      "text/plain": [
       "(2, 3)"
      ]
     },
<<<<<<< HEAD
     "execution_count": 9,
=======
     "execution_count": 7,
>>>>>>> a458808f55ab66d8895f5e7633d2a81dd9c297a5
     "metadata": {},
     "output_type": "execute_result"
    }
   ],
   "source": [
    "# shapes are always tuples\n",
    "matrix.shape"
   ]
  },
  {
   "cell_type": "code",
<<<<<<< HEAD
   "execution_count": 10,
=======
   "execution_count": 8,
>>>>>>> a458808f55ab66d8895f5e7633d2a81dd9c297a5
   "metadata": {},
   "outputs": [
    {
     "data": {
      "text/plain": [
       "array([[ 6,  7,  8],\n",
       "       [ 9, 10, 11]])"
      ]
     },
<<<<<<< HEAD
     "execution_count": 10,
=======
     "execution_count": 8,
>>>>>>> a458808f55ab66d8895f5e7633d2a81dd9c297a5
     "metadata": {},
     "output_type": "execute_result"
    }
   ],
   "source": [
    "# matrices close over addition\n",
    "matrix + 5"
   ]
  },
  {
   "cell_type": "code",
<<<<<<< HEAD
   "execution_count": 11,
=======
   "execution_count": 9,
>>>>>>> a458808f55ab66d8895f5e7633d2a81dd9c297a5
   "metadata": {},
   "outputs": [
    {
     "data": {
      "text/plain": [
       "array([[1, 4],\n",
       "       [2, 5],\n",
       "       [3, 6]])"
      ]
     },
<<<<<<< HEAD
     "execution_count": 11,
=======
     "execution_count": 9,
>>>>>>> a458808f55ab66d8895f5e7633d2a81dd9c297a5
     "metadata": {},
     "output_type": "execute_result"
    }
   ],
   "source": [
    "# the T property of a matrix stands for \"Transpose\"\n",
    "# it means that the matrix is simply rotated\n",
    "matrix.T"
   ]
  },
  {
   "cell_type": "code",
<<<<<<< HEAD
   "execution_count": 12,
=======
   "execution_count": 10,
>>>>>>> a458808f55ab66d8895f5e7633d2a81dd9c297a5
   "metadata": {},
   "outputs": [
    {
     "data": {
      "text/plain": [
       "array([1, 2, 3, 4, 5, 6])"
      ]
     },
<<<<<<< HEAD
     "execution_count": 12,
=======
     "execution_count": 10,
>>>>>>> a458808f55ab66d8895f5e7633d2a81dd9c297a5
     "metadata": {},
     "output_type": "execute_result"
    }
   ],
   "source": [
    "# the flatten function creates a 1-D vector out of any array\n",
    "matrix.flatten()"
   ]
  },
  {
   "cell_type": "markdown",
   "metadata": {},
   "source": [
    "$$\n",
    "    1 \\times x \\times 1 = 6\n",
    "$$"
   ]
  },
  {
   "cell_type": "code",
   "execution_count": 19,
   "metadata": {},
   "outputs": [
    {
     "data": {
      "text/plain": [
       "(1, 3, 2)"
      ]
     },
     "execution_count": 19,
     "metadata": {},
     "output_type": "execute_result"
    }
   ],
   "source": [
    "matrix.reshape(1, -1, 2).shape"
   ]
  },
  {
   "cell_type": "code",
   "execution_count": 11,
   "metadata": {},
   "outputs": [
    {
     "data": {
      "text/plain": [
       "(1, 6, 1)"
      ]
     },
     "execution_count": 11,
     "metadata": {},
     "output_type": "execute_result"
    }
   ],
   "source": [
    "# with the reshape function you can reshape data\n",
    "# note the -1 indicates a 'wildcard', meaning that \n",
    "# the dimensionality is infered from the other values  \n",
    "matrix.reshape(1, -1, 1).shape"
   ]
  },
  {
   "cell_type": "code",
   "execution_count": 12,
   "metadata": {},
   "outputs": [
    {
     "data": {
      "text/plain": [
       "array([[1, 2, 3, 4, 5, 6]])"
      ]
     },
     "execution_count": 12,
     "metadata": {},
     "output_type": "execute_result"
    }
   ],
   "source": [
    "# this is almost the same as flatten()\n",
    "matrix.reshape(1, -1)"
   ]
  },
  {
   "cell_type": "code",
<<<<<<< HEAD
   "execution_count": 21,
=======
   "execution_count": 13,
>>>>>>> a458808f55ab66d8895f5e7633d2a81dd9c297a5
   "metadata": {},
   "outputs": [
    {
     "data": {
      "text/plain": [
       "(array([[[ 1,  2],\n",
       "         [ 3,  4]],\n",
       " \n",
       "        [[ 5,  6],\n",
       "         [ 7,  8]],\n",
       " \n",
       "        [[ 9, 10],\n",
       "         [11, 12]]]),\n",
       " (3, 2, 2))"
      ]
     },
<<<<<<< HEAD
     "execution_count": 21,
=======
     "execution_count": 13,
>>>>>>> a458808f55ab66d8895f5e7633d2a81dd9c297a5
     "metadata": {},
     "output_type": "execute_result"
    }
   ],
   "source": [
    "# 3-D tensor object carries a hierarchy of data\n",
    "tensor = np.array([\n",
    "    [\n",
    "        [1, 2],\n",
    "        [3, 4]\n",
    "    ],\n",
    "    [\n",
    "        [5, 6],\n",
    "        [7, 8]\n",
    "    ],\n",
    "    [\n",
    "        [9, 10],\n",
    "        [11, 12]\n",
    "    ],\n",
    "])\n",
    "tensor, tensor.shape"
   ]
  },
  {
   "cell_type": "code",
<<<<<<< HEAD
   "execution_count": 22,
=======
   "execution_count": 14,
>>>>>>> a458808f55ab66d8895f5e7633d2a81dd9c297a5
   "metadata": {},
   "outputs": [
    {
     "data": {
      "text/plain": [
       "array([[ 1,  2,  3,  4],\n",
       "       [ 5,  6,  7,  8],\n",
       "       [ 9, 10, 11, 12]])"
      ]
     },
<<<<<<< HEAD
     "execution_count": 22,
=======
     "execution_count": 14,
>>>>>>> a458808f55ab66d8895f5e7633d2a81dd9c297a5
     "metadata": {},
     "output_type": "execute_result"
    }
   ],
   "source": [
    "# reshape from (3, 2, 2) to (3, 2*2)\n",
    "# flattens last dimension only\n",
    "tensor.reshape(3, 2*2)"
   ]
  },
  {
   "cell_type": "code",
<<<<<<< HEAD
   "execution_count": 23,
=======
   "execution_count": 15,
>>>>>>> a458808f55ab66d8895f5e7633d2a81dd9c297a5
   "metadata": {},
   "outputs": [
    {
     "data": {
      "text/plain": [
       "array([[ 1.5,  3.5],\n",
       "       [ 5.5,  7.5],\n",
       "       [ 9.5, 11.5]])"
      ]
     },
<<<<<<< HEAD
     "execution_count": 23,
=======
     "execution_count": 15,
>>>>>>> a458808f55ab66d8895f5e7633d2a81dd9c297a5
     "metadata": {},
     "output_type": "execute_result"
    }
   ],
   "source": [
    "# take the mean over specific dimension (axis)\n",
    "np.mean(tensor, axis=-1)"
   ]
  },
  {
   "cell_type": "markdown",
   "metadata": {},
   "source": [
    "## Matplotlib basics\n",
    "\n",
    "- plot data in various ways\n",
    "- works well with NumPy and Pandas\n",
    "- for advanced plots use the Seaborn packaga"
   ]
  },
  {
   "cell_type": "code",
<<<<<<< HEAD
   "execution_count": 40,
=======
   "execution_count": 16,
>>>>>>> a458808f55ab66d8895f5e7633d2a81dd9c297a5
   "metadata": {},
   "outputs": [
    {
     "data": {
      "text/plain": [
<<<<<<< HEAD
       "<matplotlib.collections.PathCollection at 0x7082d86487a0>"
      ]
     },
     "execution_count": 40,
=======
       "[<matplotlib.lines.Line2D at 0x29014be0760>]"
      ]
     },
     "execution_count": 16,
>>>>>>> a458808f55ab66d8895f5e7633d2a81dd9c297a5
     "metadata": {},
     "output_type": "execute_result"
    },
    {
     "data": {
<<<<<<< HEAD
      "image/png": "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",
=======
      "image/png": "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",
>>>>>>> a458808f55ab66d8895f5e7633d2a81dd9c297a5
      "text/plain": [
       "<Figure size 640x480 with 1 Axes>"
      ]
     },
     "metadata": {},
     "output_type": "display_data"
    }
   ],
   "source": [
    "data = np.random.normal(loc=3, scale=2, size=(10000))\n",
    "\n",
    "plt.scatter(range(10000), data, s=3)"
   ]
  },
  {
   "cell_type": "code",
<<<<<<< HEAD
   "execution_count": 38,
=======
   "execution_count": 17,
>>>>>>> a458808f55ab66d8895f5e7633d2a81dd9c297a5
   "metadata": {},
   "outputs": [
    {
     "data": {
<<<<<<< HEAD
      "image/png": "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",
=======
      "image/png": "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",
>>>>>>> a458808f55ab66d8895f5e7633d2a81dd9c297a5
      "text/plain": [
       "<Figure size 640x480 with 1 Axes>"
      ]
     },
     "metadata": {},
     "output_type": "display_data"
    }
   ],
   "source": [
    "plt.hist(data, bins=50)\n",
    "plt.show()"
   ]
  },
  {
   "cell_type": "markdown",
   "metadata": {},
   "source": [
    "## Pandas basics\n",
    "\n",
    "- Dataframe object is a simple matrix (2-D)\n",
    "- Provides many useful operations (e.g., filtering, sorting, statistics, etc.)"
   ]
  },
  {
   "cell_type": "code",
<<<<<<< HEAD
   "execution_count": 41,
=======
   "execution_count": 18,
>>>>>>> a458808f55ab66d8895f5e7633d2a81dd9c297a5
   "metadata": {},
   "outputs": [
    {
     "data": {
      "text/html": [
       "<div>\n",
       "<style scoped>\n",
       "    .dataframe tbody tr th:only-of-type {\n",
       "        vertical-align: middle;\n",
       "    }\n",
       "\n",
       "    .dataframe tbody tr th {\n",
       "        vertical-align: top;\n",
       "    }\n",
       "\n",
       "    .dataframe thead th {\n",
       "        text-align: right;\n",
       "    }\n",
       "</style>\n",
       "<table border=\"1\" class=\"dataframe\">\n",
       "  <thead>\n",
       "    <tr style=\"text-align: right;\">\n",
       "      <th></th>\n",
       "      <th>id</th>\n",
       "      <th>lengte</th>\n",
       "      <th>schoenmaat</th>\n",
       "    </tr>\n",
       "  </thead>\n",
       "  <tbody>\n",
       "    <tr>\n",
       "      <th>0</th>\n",
       "      <td>1</td>\n",
       "      <td>170</td>\n",
       "      <td>37</td>\n",
       "    </tr>\n",
       "    <tr>\n",
       "      <th>1</th>\n",
       "      <td>2</td>\n",
       "      <td>182</td>\n",
       "      <td>43</td>\n",
       "    </tr>\n",
       "    <tr>\n",
       "      <th>2</th>\n",
       "      <td>3</td>\n",
       "      <td>180</td>\n",
       "      <td>46</td>\n",
       "    </tr>\n",
       "    <tr>\n",
       "      <th>3</th>\n",
       "      <td>4</td>\n",
       "      <td>194</td>\n",
       "      <td>45</td>\n",
       "    </tr>\n",
       "    <tr>\n",
       "      <th>4</th>\n",
       "      <td>5</td>\n",
       "      <td>170</td>\n",
       "      <td>40</td>\n",
       "    </tr>\n",
       "    <tr>\n",
       "      <th>5</th>\n",
       "      <td>6</td>\n",
       "      <td>182</td>\n",
       "      <td>42</td>\n",
       "    </tr>\n",
       "    <tr>\n",
       "      <th>6</th>\n",
       "      <td>7</td>\n",
       "      <td>183</td>\n",
       "      <td>42</td>\n",
       "    </tr>\n",
       "    <tr>\n",
       "      <th>7</th>\n",
       "      <td>8</td>\n",
       "      <td>182</td>\n",
       "      <td>43</td>\n",
       "    </tr>\n",
       "    <tr>\n",
       "      <th>8</th>\n",
       "      <td>9</td>\n",
       "      <td>184</td>\n",
       "      <td>44</td>\n",
       "    </tr>\n",
       "    <tr>\n",
       "      <th>9</th>\n",
       "      <td>10</td>\n",
       "      <td>180</td>\n",
       "      <td>43</td>\n",
       "    </tr>\n",
       "    <tr>\n",
       "      <th>10</th>\n",
       "      <td>11</td>\n",
       "      <td>180</td>\n",
       "      <td>43</td>\n",
       "    </tr>\n",
       "    <tr>\n",
       "      <th>11</th>\n",
       "      <td>12</td>\n",
       "      <td>179</td>\n",
       "      <td>41</td>\n",
       "    </tr>\n",
       "    <tr>\n",
       "      <th>12</th>\n",
       "      <td>13</td>\n",
       "      <td>184</td>\n",
       "      <td>42</td>\n",
       "    </tr>\n",
       "    <tr>\n",
       "      <th>13</th>\n",
       "      <td>14</td>\n",
       "      <td>186</td>\n",
       "      <td>44</td>\n",
       "    </tr>\n",
       "    <tr>\n",
       "      <th>14</th>\n",
       "      <td>15</td>\n",
       "      <td>191</td>\n",
       "      <td>45</td>\n",
       "    </tr>\n",
       "    <tr>\n",
       "      <th>15</th>\n",
       "      <td>16</td>\n",
       "      <td>180</td>\n",
       "      <td>42</td>\n",
       "    </tr>\n",
       "  </tbody>\n",
       "</table>\n",
       "</div>"
      ],
      "text/plain": [
       "    id  lengte  schoenmaat\n",
       "0    1     170          37\n",
       "1    2     182          43\n",
       "2    3     180          46\n",
       "3    4     194          45\n",
       "4    5     170          40\n",
       "5    6     182          42\n",
       "6    7     183          42\n",
       "7    8     182          43\n",
       "8    9     184          44\n",
       "9   10     180          43\n",
       "10  11     180          43\n",
       "11  12     179          41\n",
       "12  13     184          42\n",
       "13  14     186          44\n",
       "14  15     191          45\n",
       "15  16     180          42"
      ]
     },
<<<<<<< HEAD
     "execution_count": 41,
=======
     "execution_count": 18,
>>>>>>> a458808f55ab66d8895f5e7633d2a81dd9c297a5
     "metadata": {},
     "output_type": "execute_result"
    }
   ],
   "source": [
    "df = pd.read_csv(\"../datasets/data_dc1.csv\", sep=';')\n",
    "\n",
    "df"
   ]
  },
  {
   "cell_type": "code",
   "execution_count": 19,
   "metadata": {},
   "outputs": [
    {
     "data": {
      "text/plain": [
       "(0     170\n",
       " 1     182\n",
       " 2     180\n",
       " 3     194\n",
       " 4     170\n",
       " 5     182\n",
       " 6     183\n",
       " 7     182\n",
       " 8     184\n",
       " 9     180\n",
       " 10    180\n",
       " 11    179\n",
       " 12    184\n",
       " 13    186\n",
       " 14    191\n",
       " 15    180\n",
       " Name: lengte, dtype: int64,\n",
       " (16,))"
      ]
     },
     "execution_count": 19,
     "metadata": {},
     "output_type": "execute_result"
    }
   ],
   "source": [
    "# index into dataframe by column\n",
    "df['lengte'], df['lengte'].shape"
   ]
  },
  {
   "cell_type": "code",
   "execution_count": 20,
   "metadata": {},
   "outputs": [
    {
     "data": {
      "text/html": [
       "<div>\n",
       "<style scoped>\n",
       "    .dataframe tbody tr th:only-of-type {\n",
       "        vertical-align: middle;\n",
       "    }\n",
       "\n",
       "    .dataframe tbody tr th {\n",
       "        vertical-align: top;\n",
       "    }\n",
       "\n",
       "    .dataframe thead th {\n",
       "        text-align: right;\n",
       "    }\n",
       "</style>\n",
       "<table border=\"1\" class=\"dataframe\">\n",
       "  <thead>\n",
       "    <tr style=\"text-align: right;\">\n",
       "      <th></th>\n",
       "      <th>id</th>\n",
       "      <th>lengte</th>\n",
       "      <th>schoenmaat</th>\n",
       "    </tr>\n",
       "  </thead>\n",
       "  <tbody>\n",
       "    <tr>\n",
       "      <th>5</th>\n",
       "      <td>6</td>\n",
       "      <td>182</td>\n",
       "      <td>42</td>\n",
       "    </tr>\n",
       "    <tr>\n",
       "      <th>6</th>\n",
       "      <td>7</td>\n",
       "      <td>183</td>\n",
       "      <td>42</td>\n",
       "    </tr>\n",
       "    <tr>\n",
       "      <th>7</th>\n",
       "      <td>8</td>\n",
       "      <td>182</td>\n",
       "      <td>43</td>\n",
       "    </tr>\n",
       "    <tr>\n",
       "      <th>8</th>\n",
       "      <td>9</td>\n",
       "      <td>184</td>\n",
       "      <td>44</td>\n",
       "    </tr>\n",
       "    <tr>\n",
       "      <th>9</th>\n",
       "      <td>10</td>\n",
       "      <td>180</td>\n",
       "      <td>43</td>\n",
       "    </tr>\n",
       "  </tbody>\n",
       "</table>\n",
       "</div>"
      ],
      "text/plain": [
       "   id  lengte  schoenmaat\n",
       "5   6     182          42\n",
       "6   7     183          42\n",
       "7   8     182          43\n",
       "8   9     184          44\n",
       "9  10     180          43"
      ]
     },
     "execution_count": 20,
     "metadata": {},
     "output_type": "execute_result"
    }
   ],
   "source": [
    "# index based on rows (row 5 to 10 exclusive)\n",
    "df.iloc[5:10]"
   ]
  },
  {
   "cell_type": "code",
<<<<<<< HEAD
   "execution_count": 42,
=======
   "execution_count": 21,
>>>>>>> a458808f55ab66d8895f5e7633d2a81dd9c297a5
   "metadata": {},
   "outputs": [
    {
     "data": {
      "text/html": [
       "<div>\n",
       "<style scoped>\n",
       "    .dataframe tbody tr th:only-of-type {\n",
       "        vertical-align: middle;\n",
       "    }\n",
       "\n",
       "    .dataframe tbody tr th {\n",
       "        vertical-align: top;\n",
       "    }\n",
       "\n",
       "    .dataframe thead th {\n",
       "        text-align: right;\n",
       "    }\n",
       "</style>\n",
       "<table border=\"1\" class=\"dataframe\">\n",
       "  <thead>\n",
       "    <tr style=\"text-align: right;\">\n",
       "      <th></th>\n",
       "      <th>id</th>\n",
       "      <th>lengte</th>\n",
       "      <th>schoenmaat</th>\n",
       "    </tr>\n",
       "  </thead>\n",
       "  <tbody>\n",
       "    <tr>\n",
       "      <th>count</th>\n",
       "      <td>16.000000</td>\n",
       "      <td>16.000000</td>\n",
       "      <td>16.000000</td>\n",
       "    </tr>\n",
       "    <tr>\n",
       "      <th>mean</th>\n",
       "      <td>8.500000</td>\n",
       "      <td>181.687500</td>\n",
       "      <td>42.625000</td>\n",
       "    </tr>\n",
       "    <tr>\n",
       "      <th>std</th>\n",
       "      <td>4.760952</td>\n",
       "      <td>6.117938</td>\n",
       "      <td>2.156386</td>\n",
       "    </tr>\n",
       "    <tr>\n",
       "      <th>min</th>\n",
       "      <td>1.000000</td>\n",
       "      <td>170.000000</td>\n",
       "      <td>37.000000</td>\n",
       "    </tr>\n",
       "    <tr>\n",
       "      <th>25%</th>\n",
       "      <td>4.750000</td>\n",
       "      <td>180.000000</td>\n",
       "      <td>42.000000</td>\n",
       "    </tr>\n",
       "    <tr>\n",
       "      <th>50%</th>\n",
       "      <td>8.500000</td>\n",
       "      <td>182.000000</td>\n",
       "      <td>43.000000</td>\n",
       "    </tr>\n",
       "    <tr>\n",
       "      <th>75%</th>\n",
       "      <td>12.250000</td>\n",
       "      <td>184.000000</td>\n",
       "      <td>44.000000</td>\n",
       "    </tr>\n",
       "    <tr>\n",
       "      <th>max</th>\n",
       "      <td>16.000000</td>\n",
       "      <td>194.000000</td>\n",
       "      <td>46.000000</td>\n",
       "    </tr>\n",
       "  </tbody>\n",
       "</table>\n",
       "</div>"
      ],
      "text/plain": [
       "              id      lengte  schoenmaat\n",
       "count  16.000000   16.000000   16.000000\n",
       "mean    8.500000  181.687500   42.625000\n",
       "std     4.760952    6.117938    2.156386\n",
       "min     1.000000  170.000000   37.000000\n",
       "25%     4.750000  180.000000   42.000000\n",
       "50%     8.500000  182.000000   43.000000\n",
       "75%    12.250000  184.000000   44.000000\n",
       "max    16.000000  194.000000   46.000000"
      ]
     },
<<<<<<< HEAD
     "execution_count": 42,
=======
     "execution_count": 21,
>>>>>>> a458808f55ab66d8895f5e7633d2a81dd9c297a5
     "metadata": {},
     "output_type": "execute_result"
    }
   ],
   "source": [
    "# summary statistics of dataframe\n",
    "df.describe()"
   ]
  },
  {
   "cell_type": "code",
   "execution_count": 22,
   "metadata": {},
   "outputs": [
    {
     "data": {
      "image/png": "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",
      "text/plain": [
       "<Figure size 640x480 with 1 Axes>"
      ]
     },
     "metadata": {},
     "output_type": "display_data"
    }
   ],
   "source": [
    "# plot one column against another column\n",
    "plt.scatter(df['lengte'], df['schoenmaat'])\n",
    "plt.xlabel('lengte')\n",
    "plt.ylabel('schoenmaat')\n",
    "plt.show()"
   ]
  },
  {
   "cell_type": "code",
   "execution_count": 23,
   "metadata": {},
   "outputs": [
    {
     "data": {
      "text/html": [
       "<div>\n",
       "<style scoped>\n",
       "    .dataframe tbody tr th:only-of-type {\n",
       "        vertical-align: middle;\n",
       "    }\n",
       "\n",
       "    .dataframe tbody tr th {\n",
       "        vertical-align: top;\n",
       "    }\n",
       "\n",
       "    .dataframe thead th {\n",
       "        text-align: right;\n",
       "    }\n",
       "</style>\n",
       "<table border=\"1\" class=\"dataframe\">\n",
       "  <thead>\n",
       "    <tr style=\"text-align: right;\">\n",
       "      <th></th>\n",
       "      <th>id</th>\n",
       "      <th>lengte</th>\n",
       "      <th>schoenmaat</th>\n",
       "    </tr>\n",
       "  </thead>\n",
       "  <tbody>\n",
       "    <tr>\n",
       "      <th>id</th>\n",
       "      <td>1.000000</td>\n",
       "      <td>0.330733</td>\n",
       "      <td>0.220784</td>\n",
       "    </tr>\n",
       "    <tr>\n",
       "      <th>lengte</th>\n",
       "      <td>0.330733</td>\n",
       "      <td>1.000000</td>\n",
       "      <td>0.773790</td>\n",
       "    </tr>\n",
       "    <tr>\n",
       "      <th>schoenmaat</th>\n",
       "      <td>0.220784</td>\n",
       "      <td>0.773790</td>\n",
       "      <td>1.000000</td>\n",
       "    </tr>\n",
       "  </tbody>\n",
       "</table>\n",
       "</div>"
      ],
      "text/plain": [
       "                  id    lengte  schoenmaat\n",
       "id          1.000000  0.330733    0.220784\n",
       "lengte      0.330733  1.000000    0.773790\n",
       "schoenmaat  0.220784  0.773790    1.000000"
      ]
     },
     "execution_count": 23,
     "metadata": {},
     "output_type": "execute_result"
    }
   ],
   "source": [
    "# compute correlation between each column/feature \n",
    "df.corr(method='pearson')"
   ]
  },
  {
<<<<<<< HEAD
   "cell_type": "markdown",
   "metadata": {},
   "source": [
    "### Anscombe's quartet dataset\n",
    "\n",
    "https://en.wikipedia.org/wiki/Anscombe%27s_quartet"
   ]
  },
  {
   "cell_type": "code",
   "execution_count": 52,
=======
   "cell_type": "code",
   "execution_count": 26,
>>>>>>> a458808f55ab66d8895f5e7633d2a81dd9c297a5
   "metadata": {},
   "outputs": [
    {
     "data": {
      "text/html": [
       "<div>\n",
       "<style scoped>\n",
       "    .dataframe tbody tr th:only-of-type {\n",
       "        vertical-align: middle;\n",
       "    }\n",
       "\n",
       "    .dataframe tbody tr th {\n",
       "        vertical-align: top;\n",
       "    }\n",
       "\n",
       "    .dataframe thead th {\n",
       "        text-align: right;\n",
       "    }\n",
       "</style>\n",
       "<table border=\"1\" class=\"dataframe\">\n",
       "  <thead>\n",
       "    <tr style=\"text-align: right;\">\n",
       "      <th></th>\n",
<<<<<<< HEAD
       "      <th>id</th>\n",
       "      <th>dataset</th>\n",
       "      <th>x</th>\n",
       "      <th>y</th>\n",
=======
       "      <th>lengte</th>\n",
       "      <th>schoenmaat</th>\n",
>>>>>>> a458808f55ab66d8895f5e7633d2a81dd9c297a5
       "    </tr>\n",
       "  </thead>\n",
       "  <tbody>\n",
       "    <tr>\n",
<<<<<<< HEAD
       "      <th>0</th>\n",
       "      <td>0</td>\n",
       "      <td>I</td>\n",
       "      <td>10.0</td>\n",
       "      <td>8.04</td>\n",
       "    </tr>\n",
       "    <tr>\n",
       "      <th>1</th>\n",
       "      <td>1</td>\n",
       "      <td>I</td>\n",
       "      <td>8.0</td>\n",
       "      <td>6.95</td>\n",
       "    </tr>\n",
       "    <tr>\n",
       "      <th>2</th>\n",
       "      <td>2</td>\n",
       "      <td>I</td>\n",
       "      <td>13.0</td>\n",
       "      <td>7.58</td>\n",
       "    </tr>\n",
       "    <tr>\n",
       "      <th>3</th>\n",
       "      <td>3</td>\n",
       "      <td>I</td>\n",
       "      <td>9.0</td>\n",
       "      <td>8.81</td>\n",
       "    </tr>\n",
       "    <tr>\n",
       "      <th>4</th>\n",
       "      <td>4</td>\n",
       "      <td>I</td>\n",
       "      <td>11.0</td>\n",
       "      <td>8.33</td>\n",
=======
       "      <th>lengte</th>\n",
       "      <td>1.00000</td>\n",
       "      <td>0.77379</td>\n",
       "    </tr>\n",
       "    <tr>\n",
       "      <th>schoenmaat</th>\n",
       "      <td>0.77379</td>\n",
       "      <td>1.00000</td>\n",
>>>>>>> a458808f55ab66d8895f5e7633d2a81dd9c297a5
       "    </tr>\n",
       "  </tbody>\n",
       "</table>\n",
       "</div>"
      ],
      "text/plain": [
<<<<<<< HEAD
       "   id dataset     x     y\n",
       "0   0       I  10.0  8.04\n",
       "1   1       I   8.0  6.95\n",
       "2   2       I  13.0  7.58\n",
       "3   3       I   9.0  8.81\n",
       "4   4       I  11.0  8.33"
      ]
     },
     "execution_count": 52,
=======
       "             lengte  schoenmaat\n",
       "lengte      1.00000     0.77379\n",
       "schoenmaat  0.77379     1.00000"
      ]
     },
     "execution_count": 26,
>>>>>>> a458808f55ab66d8895f5e7633d2a81dd9c297a5
     "metadata": {},
     "output_type": "execute_result"
    }
   ],
   "source": [
<<<<<<< HEAD
    "df = pd.read_csv(\"../datasets/anscombes.csv\")\n",
    "dataset_ids = list(df.dataset.unique())\n",
    "\n",
    "df.head()"
   ]
  },
  {
   "cell_type": "code",
   "execution_count": 53,
   "metadata": {},
   "outputs": [
    {
     "data": {
      "text/plain": [
       "['I', 'II', 'III', 'IV']"
      ]
     },
     "execution_count": 53,
     "metadata": {},
     "output_type": "execute_result"
    }
   ],
   "source": [
    "dataset_ids"
   ]
  },
  {
   "cell_type": "code",
   "execution_count": 59,
   "metadata": {},
   "outputs": [
    {
     "data": {
      "text/html": [
       "<div>\n",
       "<style scoped>\n",
       "    .dataframe tbody tr th:only-of-type {\n",
       "        vertical-align: middle;\n",
       "    }\n",
       "\n",
       "    .dataframe tbody tr th {\n",
       "        vertical-align: top;\n",
       "    }\n",
       "\n",
       "    .dataframe thead th {\n",
       "        text-align: right;\n",
       "    }\n",
       "</style>\n",
       "<table border=\"1\" class=\"dataframe\">\n",
       "  <thead>\n",
       "    <tr style=\"text-align: right;\">\n",
       "      <th></th>\n",
       "      <th>id</th>\n",
       "      <th>dataset</th>\n",
       "      <th>x</th>\n",
       "      <th>y</th>\n",
       "    </tr>\n",
       "  </thead>\n",
       "  <tbody>\n",
       "  </tbody>\n",
       "</table>\n",
       "</div>"
      ],
      "text/plain": [
       "Empty DataFrame\n",
       "Columns: [id, dataset, x, y]\n",
       "Index: []"
      ]
     },
     "execution_count": 59,
     "metadata": {},
     "output_type": "execute_result"
    }
   ],
   "source": [
    "df[(df['dataset'] == 'II') & (df['dataset'] == 'III')]"
   ]
  },
  {
   "cell_type": "code",
   "execution_count": 47,
   "metadata": {},
   "outputs": [
    {
     "data": {
      "text/html": [
       "<div>\n",
       "<style scoped>\n",
       "    .dataframe tbody tr th:only-of-type {\n",
       "        vertical-align: middle;\n",
       "    }\n",
       "\n",
       "    .dataframe tbody tr th {\n",
       "        vertical-align: top;\n",
       "    }\n",
       "\n",
       "    .dataframe thead th {\n",
       "        text-align: right;\n",
       "    }\n",
       "</style>\n",
       "<table border=\"1\" class=\"dataframe\">\n",
       "  <thead>\n",
       "    <tr style=\"text-align: right;\">\n",
       "      <th></th>\n",
       "      <th>id</th>\n",
       "      <th>dataset</th>\n",
       "      <th>x</th>\n",
       "      <th>y</th>\n",
       "    </tr>\n",
       "  </thead>\n",
       "  <tbody>\n",
       "    <tr>\n",
       "      <th>0</th>\n",
       "      <td>0</td>\n",
       "      <td>I</td>\n",
       "      <td>10.0</td>\n",
       "      <td>8.04</td>\n",
       "    </tr>\n",
       "    <tr>\n",
       "      <th>1</th>\n",
       "      <td>1</td>\n",
       "      <td>I</td>\n",
       "      <td>8.0</td>\n",
       "      <td>6.95</td>\n",
       "    </tr>\n",
       "    <tr>\n",
       "      <th>2</th>\n",
       "      <td>2</td>\n",
       "      <td>I</td>\n",
       "      <td>13.0</td>\n",
       "      <td>7.58</td>\n",
       "    </tr>\n",
       "    <tr>\n",
       "      <th>3</th>\n",
       "      <td>3</td>\n",
       "      <td>I</td>\n",
       "      <td>9.0</td>\n",
       "      <td>8.81</td>\n",
       "    </tr>\n",
       "    <tr>\n",
       "      <th>4</th>\n",
       "      <td>4</td>\n",
       "      <td>I</td>\n",
       "      <td>11.0</td>\n",
       "      <td>8.33</td>\n",
       "    </tr>\n",
       "    <tr>\n",
       "      <th>5</th>\n",
       "      <td>5</td>\n",
       "      <td>I</td>\n",
       "      <td>14.0</td>\n",
       "      <td>9.96</td>\n",
       "    </tr>\n",
       "    <tr>\n",
       "      <th>6</th>\n",
       "      <td>6</td>\n",
       "      <td>I</td>\n",
       "      <td>6.0</td>\n",
       "      <td>7.24</td>\n",
       "    </tr>\n",
       "    <tr>\n",
       "      <th>7</th>\n",
       "      <td>7</td>\n",
       "      <td>I</td>\n",
       "      <td>4.0</td>\n",
       "      <td>4.26</td>\n",
       "    </tr>\n",
       "    <tr>\n",
       "      <th>8</th>\n",
       "      <td>8</td>\n",
       "      <td>I</td>\n",
       "      <td>12.0</td>\n",
       "      <td>10.84</td>\n",
       "    </tr>\n",
       "    <tr>\n",
       "      <th>9</th>\n",
       "      <td>9</td>\n",
       "      <td>I</td>\n",
       "      <td>7.0</td>\n",
       "      <td>4.82</td>\n",
       "    </tr>\n",
       "    <tr>\n",
       "      <th>10</th>\n",
       "      <td>10</td>\n",
       "      <td>I</td>\n",
       "      <td>5.0</td>\n",
       "      <td>5.68</td>\n",
       "    </tr>\n",
       "    <tr>\n",
       "      <th>11</th>\n",
       "      <td>11</td>\n",
       "      <td>II</td>\n",
       "      <td>10.0</td>\n",
       "      <td>9.14</td>\n",
       "    </tr>\n",
       "    <tr>\n",
       "      <th>12</th>\n",
       "      <td>12</td>\n",
       "      <td>II</td>\n",
       "      <td>8.0</td>\n",
       "      <td>8.14</td>\n",
       "    </tr>\n",
       "    <tr>\n",
       "      <th>13</th>\n",
       "      <td>13</td>\n",
       "      <td>II</td>\n",
       "      <td>13.0</td>\n",
       "      <td>8.74</td>\n",
       "    </tr>\n",
       "    <tr>\n",
       "      <th>14</th>\n",
       "      <td>14</td>\n",
       "      <td>II</td>\n",
       "      <td>9.0</td>\n",
       "      <td>8.77</td>\n",
       "    </tr>\n",
       "    <tr>\n",
       "      <th>15</th>\n",
       "      <td>15</td>\n",
       "      <td>II</td>\n",
       "      <td>11.0</td>\n",
       "      <td>9.26</td>\n",
       "    </tr>\n",
       "    <tr>\n",
       "      <th>16</th>\n",
       "      <td>16</td>\n",
       "      <td>II</td>\n",
       "      <td>14.0</td>\n",
       "      <td>8.10</td>\n",
       "    </tr>\n",
       "    <tr>\n",
       "      <th>17</th>\n",
       "      <td>17</td>\n",
       "      <td>II</td>\n",
       "      <td>6.0</td>\n",
       "      <td>6.13</td>\n",
       "    </tr>\n",
       "    <tr>\n",
       "      <th>18</th>\n",
       "      <td>18</td>\n",
       "      <td>II</td>\n",
       "      <td>4.0</td>\n",
       "      <td>3.10</td>\n",
       "    </tr>\n",
       "    <tr>\n",
       "      <th>19</th>\n",
       "      <td>19</td>\n",
       "      <td>II</td>\n",
       "      <td>12.0</td>\n",
       "      <td>9.13</td>\n",
       "    </tr>\n",
       "    <tr>\n",
       "      <th>20</th>\n",
       "      <td>20</td>\n",
       "      <td>II</td>\n",
       "      <td>7.0</td>\n",
       "      <td>7.26</td>\n",
       "    </tr>\n",
       "    <tr>\n",
       "      <th>21</th>\n",
       "      <td>21</td>\n",
       "      <td>II</td>\n",
       "      <td>5.0</td>\n",
       "      <td>4.74</td>\n",
       "    </tr>\n",
       "  </tbody>\n",
       "</table>\n",
       "</div>"
      ],
      "text/plain": [
       "    id dataset     x      y\n",
       "0    0       I  10.0   8.04\n",
       "1    1       I   8.0   6.95\n",
       "2    2       I  13.0   7.58\n",
       "3    3       I   9.0   8.81\n",
       "4    4       I  11.0   8.33\n",
       "5    5       I  14.0   9.96\n",
       "6    6       I   6.0   7.24\n",
       "7    7       I   4.0   4.26\n",
       "8    8       I  12.0  10.84\n",
       "9    9       I   7.0   4.82\n",
       "10  10       I   5.0   5.68\n",
       "11  11      II  10.0   9.14\n",
       "12  12      II   8.0   8.14\n",
       "13  13      II  13.0   8.74\n",
       "14  14      II   9.0   8.77\n",
       "15  15      II  11.0   9.26\n",
       "16  16      II  14.0   8.10\n",
       "17  17      II   6.0   6.13\n",
       "18  18      II   4.0   3.10\n",
       "19  19      II  12.0   9.13\n",
       "20  20      II   7.0   7.26\n",
       "21  21      II   5.0   4.74"
      ]
     },
     "execution_count": 47,
     "metadata": {},
     "output_type": "execute_result"
    }
   ],
   "source": [
    "# pandas filtering operation\n",
    "df[(df['dataset'] == 'I') | (df['dataset'] == 'II')]"
   ]
  },
  {
   "cell_type": "code",
   "execution_count": 51,
   "metadata": {},
   "outputs": [
    {
     "data": {
      "image/png": "iVBORw0KGgoAAAANSUhEUgAABlAAAAHACAYAAADdtSUZAAAAOXRFWHRTb2Z0d2FyZQBNYXRwbG90bGliIHZlcnNpb24zLjkuMiwgaHR0cHM6Ly9tYXRwbG90bGliLm9yZy8hTgPZAAAACXBIWXMAAA9hAAAPYQGoP6dpAAA6ZElEQVR4nO3dfXScdZ0//E8KmTw0yQQZC0QLYu8RFAl0deGo+4sP9BYRsezGB7qoqKx6lPunyOq2nnsRH1ZJdRc5Vm7UPQo+7Oq6G0GPurrAgkFBQFsMqx4M3S7glqfx0EmGNJ1sO/cfPYm/TNIkbSeZa2Zer3NyDrm+M5PPlWu4Ps28r+v7bSqVSqUAAAAAAABg2opqFwAAAAAAAJA0AhQAAAAAAIAyAhQAAAAAAIAyAhQAAAAAAIAyAhQAAAAAAIAyAhQAAAAAAIAyAhQAAAAAAIAyAhQAAAAAAIAyR1a7gKW2b9++2LlzZ3R2dkZTU1O1ywGoKaVSKcbGxqKnpydWrGjszF0/ATh0+slMegrAodNT/kA/ATh0i+0ndR+g7Ny5M1avXl3tMgBq2sMPPxzPfOYzq11GVeknAIdPP9lPTwE4fHqKfgJQCQv1k7oPUDo7OyNi/y+iq6urytUA1JbR0dFYvXr19Lm0keknAIdOP5lJTwE4dHrKH+gnAIdusf2k7gOUqVsYu7q6NBOAQ+R2cP0EoBL0k/30FIDDp6foJwCVsFA/aezJIgEAAAAAAOYgQAEAAAAAACgjQAEAAAAAACgjQAEAAAAAACgjQAEAAAAAACgjQAEAAAAAACgjQAEAAAAAACgjQAEAAAAAACgjQAEAAAAAACgjQAEAAAAAAChzZLULAAAAABpbfrwYuUIxRicmo6utOTIrU5FuT1W7LACgwQlQAAAAgKrZuWt3bBwcjttHctPb+rKZGOjvjZ7utipWBgA0OlN4AQAAAFWRHy/OCk8iIoZGcrFpcDjy48UqVQYAIEABAAAAqiRXKM4KT6YMjeQiVxCgAADVI0ABAAAAqmJ0YnLe8bEFxgEAlpIABQAAAKiKrtbmecc7FxgHAFhKAhQAAACgKjIdqejLZuYc68tmItORWuaKAAD+QIACAAAAVEW6PRUD/b2zQpS+bCY29/dGul2AAgBUz5HVLgAAAABoXD3dbbFlw9rIFYoxNjEZna3NkelICU8AgKoToAAAAABVlW4XmAAAi5cfL0auUIzRicnoamuOzMql+beEAAUAAAAAAKgJO3ftjo2Dw3H7SG56W182EwP9vdHT3VbRn2UNFAAAAAAAIPHy48VZ4UlExNBILjYNDkd+vFjRnydAAQAAAAAAEi9XKM4KT6YMjeQiVxCgAAAAAAAADWZ0YnLe8bEFxg+WAAUAAAAAAEi8rtbmecc7Fxg/WAIUAAAAAAAg8TIdqejLZuYc68tmItORqujPE6AAAAAAAACJl25PxUB/76wQpS+bic39vZFur2yAcmRFXw0AAAAAAGCJ9HS3xZYNayNXKMbYxGR0tjZHpiNV8fAkQoACAAAAAADUkHT70gQm5UzhBQAAAAAAUEaAAgAAAAAAUEaAAgAAAAAAUEaAAgAAAAAAUEaAAgAAAAAAUEaAAgAAAAAAUEaAAgAAAAAAUEaAAgAAAAAAUKaqAcrQ0FCcd9550dPTE01NTXHjjTdOj01OTsbGjRvj1FNPjZUrV0ZPT0+85S1viZ07d1avYAAAAAAAoCFUNUB56qmn4rTTTotrrrlm1tj4+Hhs3bo1Lr/88ti6dWt8+9vfjvvvvz9e+9rXVqFSAAAAAACgkRxZzR9+zjnnxDnnnDPnWDqdjptuumnGts997nNxxhlnxEMPPRTHH3/8cpQIAAAAAAA0oKoGKAcrn89HU1NTdHd3H/Axe/bsiT179kx/Pzo6ugyVAVBv9BMAKkVPAaAS9BOA5Vczi8hPTEzExo0bY8OGDdHV1XXAx1155ZWRTqenv1avXr2MVQJQL/QTACpFTwGgEvQTgOXXVCqVStUuIiKiqakpbrjhhjj//PNnjU1OTkZ/f3/87ne/i9tuu23eAGWuNH716tWRz+fnfR4As42OjkY6nW7Ic6h+AlA5jdxPIvQUgEpq5J6inwBUzmL7SeKn8JqcnIw3vOEN8eCDD8a///u/L9gQWlpaoqWlZZmqA6Be6ScAVIqeAkAl6CcAyy/RAcpUeDIyMhK33nprHH300dUuCQAAAAAAaABVDVAKhUI88MAD09/v2LEj7r333nja054Wxx13XLzuda+LrVu3xve+973Yu3dvPProoxER8bSnPS1SqVS1ygYAAAAAAOpcVQOUn//85/Hyl798+vvLLrssIiIuuuii+MhHPhLf/e53IyLi9NNPn/G8W2+9NV72spctV5kAAAAAAECDqWqA8rKXvSzmW8M+IevbAwAAAAAADWZFtQsAAAAAAABIGgEKAAAAAABAGQEKAAAAAABAGQEKAAAAAABAGQEKAAAAAABAGQEKAAAAAABAGQEKAAAAAABAGQEKAAAAAABAGQEKAAAAAABAGQEKAAAAAABAGQEKAAAAAABAGQEKAAAAAABAGQEKAAAAAABAGQEKAAAAAABAGQEKAAAAAABAGQEKAAAAAABAGQEKAAAAAABAGQEKAAAAAABAGQEKAAAAAABAGQEKAAAAAABAGQEKAAAAAABAGQEKAAAAAABAGQEKAAAAAABAGQEKAAAAAABAGQEKAAAAAABAGQEKAAAAAABAGQEKAAAAAABAGQEKAAAAAABAGQEKAAAAAABAGQEKAAAAAABAGQEKAAAAAABAmSOrXQCwsPx4MXKFYoxOTEZXW3NkVqYi3Z6qdlkAAAAAAHVLgAIJt3PX7tg4OBy3j+Smt/VlMzHQ3xs93W1VrAwAAAAAoH6ZwgsSLD9enBWeREQMjeRi0+Bw5MeLVaoMAAAAAKC+CVAgwXKF4qzwZMrQSC5yBQEKAAAAAMBSEKBAgo1OTM47PrbAOAAAAAAAh0aAAgnW1do873jnAuMAAAAAABwaAQokWKYjFX3ZzJxjfdlMZDpSy1wRAAAAAEBjEKBAgqXbUzHQ3zsrROnLZmJzf2+k2wUoAAAAAABL4chqFwDMr6e7LbZsWBu5QjHGJiajs7U5Mh0p4QkAAAAAwBISoEANSLcLTAAAAAAAlpMpvAAAAAAAAMoIUAAAAAAAAMoIUAAAAAAAAMoIUAAAAAAAAMoIUAAAAAAAAMoIUAAAAAAAAMoIUAAAAAAAAMoIUAAAAAAAAMoIUAAAAAAAAMoIUAAAAAAAAMoIUAAAAAAAAMoIUAAAAAAAAMoIUAAAAAAAAMoIUAAAAAAAAMoIUAAAAAAAAMoIUAAAAAAAAMoIUAAAAAAAAMoIUAAAAAAAAMoIUAAAAAAAAMoIUAAAAAAAAMpUNUAZGhqK8847L3p6eqKpqSluvPHGGeOlUik+/OEPx3HHHRdtbW2xbt26GBkZqU6xAAAAAABAw6hqgPLUU0/FaaedFtdcc82c45/61Kfis5/9bHz+85+Pu+66K1auXBlnn312TExMLHOlAAAAAABAIzmymj/8nHPOiXPOOWfOsVKpFFdffXX89V//daxfvz4iIr761a/GMcccEzfeeGNccMEFy1kqMI/8eDFyhWKMTkxGV1tzZFamIt2eqnZZAAAAAACHrKoBynx27NgRjz76aKxbt256WzqdjjPPPDPuvPNOAQokxM5du2Pj4HDcPpKb3taXzcRAf2/0dLdVsTIAAAAAgEOX2ADl0UcfjYiIY445Zsb2Y445ZnpsLnv27Ik9e/ZMfz86Oro0BQKRHy/OCk8iIoZGcrFpcDi2bFjrThRqln4CQKXoKQBUgn4CsPyqugbKUrjyyisjnU5Pf61evbraJUHdyhWKs8KTKUMjucgVistcEVSOfgJApegpAFSCfgKw/BIboBx77LEREfHYY4/N2P7YY49Nj83lQx/6UOTz+emvhx9+eEnrhEY2OjE57/jYAuOQZPoJAJWipwBQCfoJwPJL7BReJ554Yhx77LFxyy23xOmnnx4R+29NvOuuu+Ld7373AZ/X0tISLS0ty1QlNLau1uZ5xzsXGIck008AqBQ9BYBK0E8All9VA5RCoRAPPPDA9Pc7duyIe++9N572tKfF8ccfH5deemn8zd/8TWSz2TjxxBPj8ssvj56enjj//POrVzQwLdORir5sJobmmMarL5uJTIf1TwAAAACA2lTVAOXnP/95vPzlL5/+/rLLLouIiIsuuiiuv/76+Ku/+qt46qmn4p3vfGfs2rUr/uRP/iR++MMfRmtra7VKBv4P6fZUDPT3xqbB4RkhSl82E5v7ey0gDwAAAADUrKoGKC972cuiVCodcLypqSk+9rGPxcc+9rFlrAo4GD3dbbFlw9rIFYoxNjEZna3NkelICU8AAAAAgJqW2DVQgNqRbheYAAAAAAD1ZUW1CwAAAAAAAEgaAQoAAAAAAEAZAQoAAAAAAEAZAQoAAAAAAEAZAQoAAAAAAEAZAQoAAAAAAEAZAQoAAAAAAEAZAQoAAAAAAEAZAQoAAAAAAEAZAQoAAAAAAEAZAQoAAAAAAEAZAQoAAAAAAEAZAQoAAAAAAEAZAQoAAAAAAEAZAQoAAAAAAEAZAQoAAAAAAECZI6tdAAAAc8uPFyNXKMboxGR0tTVHZmUq0u2papcFAAAADUGAAgCQQDt37Y6Ng8Nx+0hueltfNhMD/b3R091WxcoAAACgMZjCCwAgYfLjxVnhSUTE0EguNg0OR368WKXKAAAAoHEIUAAAEiZXKM4KT6YMjeQiVxCgAAAAwFIzhRcAQAVUcr2S0YnJecfHFhg/EGuqAAAAwOIJUAAADlOl1yvpam2ed7xzgfHlqBEAAADqnSm8AAAOw1KsV5LpSEVfNjPnWF82E5mOg7trxJoqAAAAcPAEKAAAh2Ep1itJt6dioL93VojSl83E5v7eg552y5oqAAAAcPBM4QUAcBiWar2Snu622LJhbeQKxRibmIzO1ubIdBzamiVLVSMAAADUMwEKAMBhWIr1Sqak2yuzyPtS1ggAAAD1yhReAACHodLrlSyFWqgRAAAAkkaAAgBwGCq9XslSqIUaAQAAIGlM4QUAcJgquV7JUqmFGgEAACBJBCgAABVQqfVKllIt1AgAAABJYQovAAAAAACAMu5AAQAAAOpKfrwYuUIxRicmo6utOTIr3YUJVJbzDDQGAQo1RXMCAABgPjt37Y6Ng8Nx+0hueltfNhMD/b3R091WxcqAeuE8A41DgELN0JwAqCShPADUn/x4cdbfjRERQyO52DQ4HFs2rNXvgcPiPAONRYBCTdCcAKgkoXxlCKEASJpcoTjr78YpQyO5yBWKehVwWJxnoLEIUKgJmhMAlSKUrwwhFABJNDoxOe/42ALjAAtxnoHGsqLaBcBiaE4AVMpiQnnmt1AIlR/3OwSgOrpam+cd71xgHGAhzjPQWAQo1ATNCYBKEcofPiEUAEmV6UhFXzYz51hfNhOZDneZAofHeQYaiwCFmqA5AVApQvnDJ4QCIKnS7akY6O+d9fdjXzYTm/t7TdMJHDbnGWgs1kChJkw1p02DwzFUNte65gTAwZgK5YfmuINCKL84QigAkqynuy22bFgbuUIxxiYmo7O1OTIdKX83AhXjPAONQ4BCzdCcAKgEofzhE0IBkHTpdn8rAkvLeQYagwCFmqI5AVAJQvnDI4QCAACgEQhQAICGJJQ/PEIoAAAA6p0ABQCAQyKEAgAAoJ4JUAAAAAAADkJ+vBi5QjFGJyajq605MitdXAT1SIACAAAAALBIO3ftjo2Dw3F72XqAA/290dPdVsXKgEpbUe0CAAAAAABqQX68OCs8iYgYGsnFpsHhyI8Xq1QZsBQEKAAAAAAAi5ArFGeFJ1OGRnKRKwhQoJ4IUAAAAAAAFmF0YnLe8bEFxoHaYg0UqDCLiAEAAADUp67W5nnHOxcYB2qLAAUqyCJiAAAAAPUr05GKvmwmhuaYxqsvm4lMh4tooZ6YwgsqxCJiAAAAAPUt3Z6Kgf7e6MtmZmzvy2Zic3+vWUigzrgDBSpkMYuIaaIAAAAAta2nuy22bFgbuUIxxiYmo7O1OTIdpnCHeiRAgQqxiBgAAABAY0i3C0ygEZjCCyrEImIAAAAAAPVDgAIVMrWI2FwsIgYAAAAAUFsEKFAhFhEDWDr58WJsf7wQ2x56MrY/UYj8eLHaJQFAw9KXAYBGYQ0UqCCLiAFU3s5du2Pj4HDcPpKb3taXzcRAf2/0dLdVsTIAaDz6MgDQSNyBAhWWbk/FmlUdcfrxR8WaVR3CE4DDkB8vzvqQJiJiaCQXmwaHXfFah1zVDJBc+jIA0GjcgQIAJFauUJz1Ic2UoZFc5ApFQXUdcVUzQLLpywBAo3EHCg3Pla4AyTU6MTnv+NgC49QOVzUDJJ++DAA0mkQHKHv37o3LL788TjzxxGhra4s1a9bExz/+8SiVStUujTqxc9fu+H++sS3OuurH8af/3x1x1t/9OP73N7bFzl27q10aABHR1do873jnAuPUjsVc1QxAdenLAECjSXSAsnnz5rj22mvjc5/7XPzmN7+JzZs3x6c+9anYsmVLtUujDrjSFSD5Mh2p6Mtm5hzry2Yi02GakHrhqmaA5NOXAYBGk+gA5Y477oj169fHueeeG8961rPida97Xbzyla+Mu+++u9qlUQdc6QqQfOn2VAz09876sKYvm4nN/b3mWa8jrmoGSD59GQBoNIleRP7FL35xfPGLX4zf/va38ZznPCd++ctfxk9+8pO46qqrDvicPXv2xJ49e6a/Hx0dXY5SqUGudAXmo58kR093W2zZsDZyhWKMTUxGZ2tzZDpSPqSpM1NXNQ/NcXGDq5qpdXoK9URfhurRTwCWX6IDlE2bNsXo6GicfPLJccQRR8TevXvjE5/4RFx44YUHfM6VV14ZH/3oR5exSmqVK12B+egnyZJu98FMvZu6qnnT4PCMEMVVzdQDPYV6oy9DdegnyZIfL0auUIzRicnoamuOzErnRqhHTaWDXJH9oosuiosvvjj6+vqWqqZp3/zmN+ODH/xgfPrTn45TTjkl7r333rj00kvjqquuiosuumjO58yVxq9evTry+Xx0dXUtec3Ujvx4Mf73N7Yd8ErXLRvWanw0vNHR0Uin0w15DtVPoDqm/hB1VXN9aeR+EqGnAFRSI/cU/SQ5du7aPWtd3b5sJgb6e6Onu62KlQGLtdh+ctB3oOTz+Vi3bl2ccMIJ8ba3vS0uuuiieMYznnFYxR7IBz/4wdi0aVNccMEFERFx6qmnxoMPPhhXXnnlAQOUlpaWaGlpWZJ6qC+udAXmo59AdbiqmXqkpwBQCfpJMuTHi7PCk4j96+luGhx2QS7UmYMOUG688cZ44okn4mtf+1p85StfiSuuuCLWrVsXF198caxfvz6amys37dH4+HisWDFznfsjjjgi9u3bV7GfQWMzfy8AAFDvTDMDUDm5QnFWeDJlaCQXuULRORbqyCGtgfL0pz89Lrvssrjsssti69atcd1118Wb3/zm6OjoiDe96U3xnve8J7LZ7GEXd95558UnPvGJOP744+OUU06Jbdu2xVVXXRVvf/vbD/u1YYorXQEAgHplmhmAyhqdmJx3fGyBcaC2rFj4IQf2yCOPxE033RQ33XRTHHHEEfHqV7867rvvvnje854Xn/nMZw67uC1btsTrXve6eM973hPPfe5z4wMf+EC8613vio9//OOH/doAAABQzxaaZiY/XqxSZQC1q6t1/tl3OhcYB2rLQd+BMjk5Gd/97nfjuuuui3/7t3+L3t7euPTSS+PP//zPpxdbueGGG+Ltb397vP/97z+s4jo7O+Pqq6+Oq6+++rBeBwAAABqNaWYAKi/TkYq+bGbGerpT+rKZyHQ4r0I9OegA5bjjjot9+/bFhg0b4u67747TTz991mNe/vKXR3d3dwXKAwAAAA6FaWYAKi/dnoqB/t7YNDg8I0Tpy2Zic3+vYBrqzEEHKJ/5zGfi9a9/fbS2th7wMd3d3bFjx47DKgwAAAA4dKaZAVgaTRFxzqnHxUUvflbs+Z990XLkinh8bE+1ywKWwEEHKG9+85uXog4AAACggkwzA1B5+fFi/NUc60tF7D+3btmw1l0oUEcOaxF5AAAAIJmmppnpy2ZmbDfNDMChW8z6UkD9OOg7UAAAAIDa0NPdFls2rI1coRhjE5PR2docmY6U8ATgEFlfChqLAAUaUH68GLlCMUYnJqOrrTkyK/0BBQAA9Srd7t/7AJVifSloLAIUaDA7d+2OjWVzdfZlMzHQ3xs93W1VrAwAAAAg2awvBY3FGijQQPLjxVnhScT+OTo3DQ5Hftw8nQAAAAAHYn0paCzuQIEGspiFzjR6AAAAgAOzvhQ0DgEKNBALnQEAQLJZrxCgNlhfChqDAAUaiIXOAAAguaxXCACQLNZAgQYytdDZXCx0BgAA1WO9QgCA5BGgQAOx0BkAACTTYtYrBABgeZnCCxqMhc4AACB5rFcIAJA8AhRoQBY6AwCAZLFeIQBA8pjCCwAAAKrMeoUAAMkjQAEAKi4/Xoztjxdi20NPxvYnCha+BYAFWK8QACB5TOFVw/LjxcgVijE6MRldbc2RWWlaJgCqb+eu3bFxcHjGQrh92UwM9PdGT3dbFSsDgGSzXiEAQLIIUGqUD6cASKL8eHFWf4qIGBrJxabB4diyYa0PgQBgHtYrBABIDlN41aCFPpwyTQoA1ZIrFGf1pylDI7nIFfQoAAAAoDYIUGqQD6cASKrRicl5x8cWGAcAAABICgFKDfLhFABJ1dXaPO945wLjAAAAAEkhQKlBPpwCIKkyHanoy2bmHOvLZiLTYU53AOpLfrwY2x8vxLaHnoztTxRMqQwAUEcsIl+Dpj6cGppjGi8fTgFQTen2VAz098amweEZfaovm4nN/b0WxQWgruzctXvW+pR92UwM9PdGT3dbFSsDAKASBCg1yIdTACRZT3dbbNmwNnKFYoxNTEZna3NkOlL6EwB1JT9enBWeROxfl3LT4HBs2bBW7wOoY/nxYuQKxRidmIyutubIrPQ3D9QjAUqN8uEUAEmWbteTAKhvuUJxVngyZWgkF7lCUS8EqFPuQITGYQ2UGpZuT8WaVR1x+vFHxZpVHf5xDgAAsExGJybnHR9bYByA2rTQHYjWwoL64g4UlpTbGQEAgHrU1do873jnAuMA1CZ3IEJjEaCwZNzOCAAA1KtMRyr6spkZ61JO6ctmItPhwzOAeuQORGgspvBiSbidEQAAqGfp9lQM9PdGXzYzY3tfNhOb+3tdfQxQp9yBCI3FHSgsCbczAgAA9a6nuy22bFgbuUIxxiYmo7O1OTIdpi0GqGeZjlT8389dFScd1xVrV3fHnv/ZF63NR8TWh56M+x8ZdQci1BkBCkvC7YwAAEAjSLcLTAAaSbo9FZe/5nnxoRvui8/9+wPT2//k/zo6Pvmnp+oJUGdM4cWScDsjAAAAAPUmP16M//fG/4ifPvD7Gdt/8sDv469v/A/T1kOdEaCwJKYWVJyLBRUBAAAAqEWLmbYeqB8CFJaEBRUBAIAkyo8XY/vjhdj20JOx/YmCK4UBOCimrYfGYg0UlowFFQEAgCTZuWt3bBwcnnHlcF82EwP9vdHT3VbFygCoFaath8biDhSWVLo9FWtWdcTpxx8Va1Z1CE8AAICqyI8XZ4UnEfunW9k0OOxOFAAWxbT10FgEKAAAANQ9c9YDUAmmrYfGYgovAAAA6p456wGoFNPWQ+MQoAAAAFD3zFkPQCWl2wUm0AhM4QUAAEDdM2c9AAAHS4ACAABA3TNnPQCVlB8vxvbHC7HtoSdj+xOFyI9bSwvqkSm8AAAAaAjmrAegEnbu2h0bB4fj9pHc9La+bCYG+nujp7utipUBleYOFAAAABpGuj0Va1Z1xOnHHxVrVnUITwA4KPnx4qzwJCJiaCQXmwaH3YkCdUaAAgAAAACwCLlCcVZ4MmVoJBe5ggAF6okABQAAAABgEUYnJucdH1tgHKgtAhQAAAAAgEXoam2ed7xzgXGgtghQAAAASKT8eDG2P16IbQ89GdufKJhXHoCqy3Skoi+bmXOsL5uJTIe1taCeHFntAgAAAKDczl27Zy3S25fNxEB/b/R0t1WxMgAaWbo9FQP9vbFpcDiGynrU5v7eSLcLUKCeCFAAAABIlPx4cVZ4ErF/cd5Ng8OxZcNaH1ABUDU93W2xZcPayBWKMTYxGZ2tzZHpSOlNUIcEKAAAACRKrlCcFZ5MGRrJRa5Q9CEVAFWVbheYQCOwBgoAAACJMjoxOe/42ALjAABQCQIUAAAAEqWrtXne8c4FxgEAoBIEKAAAACRKpiMVfdnMnGN92UxkOkyZAgDA0hOgAAAAkCjp9lQM9PfOClH6spnY3N9rznkAAJaFReQBAABInJ7uttiyYW3kCsUYm5iMztbmyHRYsBcAgOUjQAEAACCR0u0CEwAAqkeAAgANLj9ejFyhGKMTk9HV1hyZlT6sAgAAABCgAEAD27lrd2wcHI7bR3LT2/qymRjo742e7rYqVgYAAABQXRaRB4AGlR8vzgpPIiKGRnKxaXA48uPFKlUGQK3Kjxdj++OF2PbQk7H9iYJeAgBATXMHCgA0qFyhOCs8mTI0kotcoWgqLwAWzV2NAADUG3egAECDGp2YnHd8bIFxAJjirkYAAOpR4gOU//7v/443velNcfTRR0dbW1uceuqp8fOf/7zaZQFAzetqbZ53vHOBcQCYspi7GgEAoNYkOkB58skn4yUveUk0NzfHv/7rv8avf/3r+Lu/+7s46qijql0aANS8TEcq+rKZOcf6spnIdJi+C4DFcVcjAAD1KNFroGzevDlWr14d11133fS2E088sYoVAUD9SLenYqC/NzYNDsdQ2Xz1m/t7rX8CwKK5qxEAgHqU6ADlu9/9bpx99tnx+te/Pn784x/HM57xjHjPe94T73jHOw74nD179sSePXumvx8dHV2OUgGoM43ST3q622LLhrWRKxRjbGIyOlubI9OREp4AVFAj9JSpuxqH5pjGy12NAJXRCP0EIGkSPYXXf/7nf8a1114b2Ww2fvSjH8W73/3ueO973xtf+cpXDvicK6+8MtLp9PTX6tWrl7FiAOpFI/WTdHsq1qzqiNOPPyrWrOoQngBUWCP0lKm7GsunhnRXI0DlNEI/AUiaplKpVKp2EQeSSqXihS98Ydxxxx3T29773vfGPffcE3feeeecz5krjV+9enXk8/no6upa8poB6sno6Gik0+mGPIfqJwCV08j9JKKxekp+vOiuRmBJNXJPaaR+ArDUFttPEj2F13HHHRfPe97zZmx77nOfG4ODgwd8TktLS7S0tCx1aQDUOf0EgEpppJ6SbheYACyVRuonAEmR6Cm8XvKSl8T9998/Y9tvf/vbOOGEE6pUEQAAAAAA0AgSHaC8//3vj5/97GfxyU9+Mh544IH4x3/8x/jiF78Yl1xySbVLAwAAAAAA6liip/D64z/+47jhhhviQx/6UHzsYx+LE088Ma6++uq48MILq10aAAAAANCgptb9Gp2YjK625sisNI0l1KNEBygREa95zWviNa95TbXLAAAAqCs++AGAQ7Nz1+7YODgct4/kprf1ZTMx0N8bPd1tVawMqLTEBygAAABUlg9+AODQ5MeLs3poRMTQSC42DQ7Hlg1rXZAAdSTRa6DUm/x4MbY/XohtDz0Z258oRH68WO2SAACABrPQBz/+TgGAA8sVirN66JShkVzkCvoo1BN3oCwTV3gBAABJsJgPflw5CwBzG52YnHd8bIFxoLa4A2UZuMILAABICh/8AMCh62ptnne8c4FxoLYIUJaBW/sAAICk8MEPABy6TEcq+rKZOcf6spnIdLiLE+qJKbyWgSu8AACApJj64Gdojou8fPADAPNLt6dic39v3PbbJ2JVZ0vs+Z990dp8RDw2OhEvf87TTYMJdUaAsgxc4QUAACRFuj0VA/29sWlweEaI0pfNxOb+Xh/8AMACShHxg+FH4vYHZvbRlz7n6dUrClgSApRl4AovAAAgSXq622LLhrWRKxRjbGIyOlubI9OREp4AwAKm1zp+YO61jrdsWKufQh2xBsoymLrCq3x+RFd4AQAA1ZJuT8WaVR1x+vFHxZpVHf4uAYBFsNYxNBZ3oCwTV3gBAAAAQG2z1jE0FgHKMkq3C0wAAAAAoFZZ6xgaiym8AAAAakB+vBjbHy/EtoeejO1PFCI/booQAFhuU2sdz8Vax1B/3IECAACQcDt37d6/YO3/Med6XzYTA/290dPdVsXKAKCxTK11vGlwOIbK+rK1jqH+CFAAAAASLD9enBWeROxfqHbT4HBs2bDWhzUAsIysdQyNQ4ACAACQYLlCcVZ4MmVoJBe5QtEHNgCwzKx1DI3BGigAAAAJNjoxOe/42ALjAADAoXEHCgAAQIJ1tTbPO965wDgAUHn58WLkCsUYnZiMrrbmyKx0RwrUIwEKAABAgmU6UtGXzcxYqHZKXzYTmQ4f1gDActq5a/es9cn6spkY6O+Nnu62KlYGVJopvAAAABIs3Z6Kgf7e6MtmZmzvy2Zic3+vq10BYBnlx4uzwpOI/euSbRocjvx4sUqVAUvBHSgAAAAJ19PdFls2rI1coRhjE5PR2docmQ5ThQDAcssVirPCkylDI7nIFYr6M9QRAQoAAEANSLcLTACg2kYnJucdH1tgHKgtpvACAAAAAFiErtbmecc7FxgHaosABQAAAABgETIdqVnrkk3py2Yi0+FuUagnAhQAAAAAgEVIt6dioL93VojSl83E5v5e021CnbEGCgAAAADAIvV0t8WWDWsjVyjG2MRkdLY2R6bDWmVQjwQoAAAAAAAHId0uMIFGYAovAAAAAACAMgIUAAAAAACAMgIUAAAAAACAMgIUAAAAAACAMgIUAAAAAACAMgIUAAAAAACAMkdWuwCSIz9ejFyhGKMTk9HV1hyZlalIt6eqXRYAAAAAACw7AQoREbFz1+7YODgct4/kprf1ZTMx0N8bPd1tVawMAAAAAACWnym8iPx4cVZ4EhExNJKLTYPDkR8vVqkyAAAAAACoDnegELlCcVZ4MmVoJBe5QtFUXgAJYspFAAAAgKUnQCFGJybnHR9bYByA5WPKRQAAAIDlYQovoqu1ed7xzgXGAVgeplwEAAAAWD4CFCLTkYq+bGbOsb5sJjIdpoUBSILFTLkIAAAAQGUIUIh0eyoG+ntnhSh92Uxs7u81rz5AQphyEQAAAGD5WAOFiIjo6W6LLRvWRq5QjLGJyehsbY5Mh0WJAZLElIsAAAAAy0eAwrR0u8AEIMmmplwcmmMaL1MuAgAAAFSWKbwAoEaYchEAAABg+bgDBQBqiCkXAQAAAJaHAAUAaowpFwEAAACWnim8AAAAAAAAyghQAAAAAAAAyghQAAAAAAAAyghQAAAAAAAAyghQAAAAAAAAyghQAAAAAAAAyghQAAAAAAAAyhxZ7QKSKj9ejFyhGKMTk9HV1hyZlalIt6eqXRYAAAAAALAMBChz2Llrd2wcHI7bR3LT2/qymRjo742e7rYqVgYAAAAAACwHU3iVyY8XZ4UnERFDI7nYNDgc+fFilSoDAAAAAACWiwClTK5QnBWeTBkayUWuIEABAAAAAIB6J0ApMzoxOe/42ALjAAAAAABA7ROglOlqbZ53vHOBcQAAAAAAoPYJUMpkOlLRl83MOdaXzUSmI7XMFQEAAAAAAMtNgFIm3Z6Kgf7eWSFKXzYTm/t7I90uQAEAAAAAgHp3ZLULSKKe7rbYsmFt5ArFGJuYjM7W5sh0pIQnAAAAAADQIGrqDpSBgYFoamqKSy+9dMl/Vro9FWtWdcTpxx8Va1Z1CE8AAAAAAKCB1EyAcs8998QXvvCF6O3trXYpAAAAAABAnauJAKVQKMSFF14Yf//3fx9HHXVUtcsBAAAAAADqXE0EKJdcckmce+65sW7dumqXAgAAAAAANIDELyL/zW9+M7Zu3Rr33HPPoh6/Z8+e2LNnz/T3o6OjS1UaAHVMPwGgUvQUACpBPwFYfom+A+Xhhx+O973vffEP//AP0drauqjnXHnllZFOp6e/Vq9evcRVAlCP9BMAKkVPAaAS9BOA5ddUKpVK1S7iQG688cb40z/90zjiiCOmt+3duzeamppixYoVsWfPnhljEXOn8atXr458Ph9dXV3LVjtAPRgdHY10Ot2Q51D9BKByGrmfROgpAJXUyD1FPwGonMX2k0RP4XXWWWfFfffdN2Pb2972tjj55JNj48aNs8KTiIiWlpZoaWlZrhIBqFP6CQCVoqcAUAn6CcDyS3SA0tnZGc9//vNnbFu5cmUcffTRs7YDAAAAAABUSqLXQAEAAAAAAKiGRN+BMpfbbrut2iUAAAAAAAB1zh0oAAAAAAAAZQQoAAAAAAAAZQQoAAAAAAAAZQQoAAAAAAAAZQQoAAAAAAAAZQQoAAAAAAAAZQQoAAAAAAAAZQQoAAAAAAAAZQQoAAAAAAAAZQQoAAAAAAAAZQQoAAAAAAAAZQQoAAAAAAAAZQQoAAAAAAAAZQQoAAAAAAAAZQQoAAAAAAAAZQQoAAAAAAAAZQQoAAAAAAAAZQQoAAAAAAAAZQQoAAAAAAAAZQQoAAAAAAAAZQQoAAAAAAAAZQQoAAAAAAAAZY6sdgEAUO/y48XIFYoxOjEZXW3NkVmZinR7qtplAQAAADAPAQoALKGdu3bHxsHhuH0kN72tL5uJgf7e6Oluq2JlAAAAAMzHFF4AsETy48VZ4UlExNBILjYNDkd+vFilygAAAABYiAAFAJZIrlCcFZ5MGRrJRa4gQAEAAABIKgEKACyR0YnJecfHFhgHAAAAoHoEKACwRLpam+cd71xgHAAAAIDqEaAAwBLJdKSiL5uZc6wvm4lMR2qZKwIAAABgsQQoALBE0u2pGOjvnRWi9GUzsbm/N9LtAhQAAACApDqy2gUAQD3r6W6LLRvWRq5QjLGJyehsbY5MR0p4AgAAAJBwAhQAWGLpdoEJAAAAQK0xhRcAAAAAAEAZAQoAAAAAAEAZAQoAAAAAAEAZAQoAAAAAAEAZAQoAAAAAAEAZAQoAAAAAAEAZAQoAAAAAAEAZAQoAAAAAAEAZAQoAAAAAAEAZAQoAAAAAAEAZAQoAAAAAAECZI6tdwFIrlUoRETE6OlrlSgBqz9S5c+pc2sj0E4BDp5/MpKcAHDo95Q/0E4BDt9h+UvcBytjYWERErF69usqVANSusbGxSKfT1S6jqvQTgMOnn+ynpwAcPj1FPwGohIX6SVOpziP7ffv2xc6dO6OzszOampqqXU6Mjo7G6tWr4+GHH46urq5ql3NY7Esy2ZdkqtV9KZVKMTY2Fj09PbFiRWPP+qifLB37kkz2JZlqdV/0k5mS1FNq9T01F/uSTPW0LxH1tT+1ui96yh8kqZ9E1O57ai72JZnsSzLV6r4stp/U/R0oK1asiGc+85nVLmOWrq6umnpDzce+JJN9SaZa3JdGv6prin6y9OxLMtmXZKrFfdFP/iCJPaUW31MHYl+SqZ72JaK+9qcW90VP2S+J/SSiNt9TB2Jfksm+JFMt7sti+kljR/UAAAAAAABzEKAAAAAAAACUEaAss5aWlrjiiiuipaWl2qUcNvuSTPYlmeppX0iGenpP2Zdksi/JVE/7QjLU03vKviRTPe1LRH3tTz3tC8lQT+8p+5JM9iWZ6mlf5lL3i8gDAAAAAAAcLHegAAAAAAAAlBGgAAAAAAAAlBGgAAAAAAAAlBGgAAAAAAAAlBGgVNBHPvKRaGpqmvF18sknz/ucf/7nf46TTz45Wltb49RTT40f/OAHy1Tt/J71rGfN2pempqa45JJL5nz89ddfP+uxra2ty1z1fkNDQ3HeeedFT09PNDU1xY033jhjvFQqxYc//OE47rjjoq2tLdatWxcjIyMLvu4111wTz3rWs6K1tTXOPPPMuPvuu5doD/5gvn2ZnJyMjRs3xqmnnhorV66Mnp6eeMtb3hI7d+6c9zUP5X1aCQsdl7e+9a2z6nrVq1614Osm7bhExJz/7zQ1NcWnP/3pA75mtY4LyaSf6CeVpp/oJzSmeuonEXrKXJJ27tJT9kvacYnQUzh89dRT9JPZknbe0k/2S9pxiWjMfiJAqbBTTjklHnnkkemvn/zkJwd87B133BEbNmyIiy++OLZt2xbnn39+nH/++fEf//Efy1jx3O65554Z+3HTTTdFRMTrX//6Az6nq6trxnMefPDB5Sp3hqeeeipOO+20uOaaa+Yc/9SnPhWf/exn4/Of/3zcddddsXLlyjj77LNjYmLigK/5T//0T3HZZZfFFVdcEVu3bo3TTjstzj777Hj88ceXajciYv59GR8fj61bt8bll18eW7dujW9/+9tx//33x2tf+9oFX/dg3qeVstBxiYh41ateNaOub3zjG/O+ZhKPS0TM2IdHHnkkvvzlL0dTU1P09/fP+7rVOC4kl36in1SSfqKf0LjqpZ9E6Cnlknju0lOSeVwi9BQqo156in4yUxLPW/pJMo9LRIP2kxIVc8UVV5ROO+20RT/+DW94Q+ncc8+dse3MM88svetd76pwZYfvfe97X2nNmjWlffv2zTl+3XXXldLp9PIWtQgRUbrhhhumv9+3b1/p2GOPLX3605+e3rZr165SS0tL6Rvf+MYBX+eMM84oXXLJJdPf7927t9TT01O68sorl6TuuZTvy1zuvvvuUkSUHnzwwQM+5mDfp0thrn256KKLSuvXrz+o16mV47J+/frSK17xinkfk4TjQnLoJ+nlLWoR9JPZknDe0k9mS8JxITnquZ+USnpKrZy79JRkHhc9hYNVzz1FP6mN85Z+kszj0gj9xB0oFTYyMhI9PT3x7Gc/Oy688MJ46KGHDvjYO++8M9atWzdj29lnnx133nnnUpd5UIrFYnz961+Pt7/97dHU1HTAxxUKhTjhhBNi9erVsX79+vjVr361jFUuzo4dO+LRRx+d8XtPp9Nx5plnHvD3XiwW4xe/+MWM56xYsSLWrVuXuGOVz+ejqakpuru7533cwbxPl9Ntt90Wq1atipNOOine/e53x+9///sDPrZWjstjjz0W3//+9+Piiy9e8LFJPS5Uh36in1STfpK846KfcKjqsZ9E6Cm1cu6K0FOSeFz0FA5VPfYU/aQ2zlsR+kkSj0uj9BMBSgWdeeaZcf3118cPf/jDuPbaa2PHjh3xv/7X/4qxsbE5H//oo4/GMcccM2PbMcccE48++uhylLtoN954Y+zatSve+ta3HvAxJ510Unz5y1+O73znO/H1r3899u3bFy9+8Yvjd7/73fIVughTv9uD+b3ncrnYu3dv4o/VxMREbNy4MTZs2BBdXV0HfNzBvk+Xy6te9ar46le/Grfcckts3rw5fvzjH8c555wTe/funfPxtXJcvvKVr0RnZ2f82Z/92byPS+pxoTr0E/2kmvST/ZJ2XPQTDkW99pMIPaVWzl16yn5JOy56CoeiXnuKflIb5y39ZL+kHZdG6SdHVruAenLOOedM/3dvb2+ceeaZccIJJ8S3vvWtRSVxSfWlL30pzjnnnOjp6TngY170ohfFi170ounvX/ziF8dzn/vc+MIXvhAf//jHl6PMhjY5ORlveMMbolQqxbXXXjvvY5P6Pr3gggum//vUU0+N3t7eWLNmTdx2221x1llnVa2uw/XlL385LrzwwgUXmEvqcaE66vX9oJ8kn36SXPoJh6Ke3w96SvLpKcmlp3Ao6vX9oJ8kn36SXI3ST9yBsoS6u7vjOc95TjzwwANzjh977LHx2GOPzdj22GOPxbHHHrsc5S3Kgw8+GDfffHP8xV/8xUE9r7m5OdauXXvAfa+Wqd/twfzeM5lMHHHEEYk9VlON5MEHH4ybbrpp3iR+Lgu9T6vl2c9+dmQymQPWlfTjEhFx++23x/3333/Q//9EJPe4UB36iX6yHPSTZB6XCP2EyqmHfhKhp0Qk/9ylpyTzuEToKVROPfQU/ST55y39JJnHJaKx+okAZQkVCoXYvn17HHfccXOOv+hFL4pbbrllxrabbrppRqpdbdddd12sWrUqzj333IN63t69e+O+++474L5Xy4knnhjHHnvsjN/76Oho3HXXXQf8vadSqXjBC14w4zn79u2LW265perHaqqRjIyMxM033xxHH330Qb/GQu/Tavnd734Xv//97w9YV5KPy5QvfelL8YIXvCBOO+20g35uUo8L1aGf6CdLTT9J5nGZop9QKfXQTyL0lIhkn7v0lGQelyl6CpVSDz1FP0n2eUs/SeZxmdJQ/aS6a9jXl7/8y78s3XbbbaUdO3aUfvrTn5bWrVtXymQypccff7xUKpVKb37zm0ubNm2afvxPf/rT0pFHHln627/929JvfvOb0hVXXFFqbm4u3XfffdXahRn27t1bOv7440sbN26cNVa+Lx/96EdLP/rRj0rbt28v/eIXvyhdcMEFpdbW1tKvfvWr5Sy5VCqVSmNjY6Vt27aVtm3bVoqI0lVXXVXatm1b6cEHHyyVSqXSwMBAqbu7u/Sd73ynNDw8XFq/fn3pxBNPLO3evXv6NV7xileUtmzZMv39N7/5zVJLS0vp+uuvL/36178uvfOd7yx1d3eXHn300artS7FYLL32ta8tPfOZzyzde++9pUceeWT6a8+ePQfcl4Xep9XYl7GxsdIHPvCB0p133lnasWNH6eabby790R/9USmbzZYmJiYOuC9JPC5T8vl8qb29vXTttdfO+RpJOS4kk36inyznvugnyTwuU/QTDke99ZNSSU9J+rlLT0nmcZmip3A46q2n6CfJPm/pJ8k8LlMarZ8IUCrojW98Y+m4444rpVKp0jOe8YzSG9/4xtIDDzwwPf7Sl760dNFFF814zre+9a3Sc57znFIqlSqdcsoppe9///vLXPWB/ehHPypFROn++++fNVa+L5deemnp+OOPL6VSqdIxxxxTevWrX13aunXrMlb7B7feemspImZ9TdW7b9++0uWXX1465phjSi0tLaWzzjpr1j6ecMIJpSuuuGLGti1btkzv4xlnnFH62c9+VtV92bFjx5xjEVG69dZbD7gvC71Pq7Ev4+PjpVe+8pWlpz/96aXm5ubSCSecUHrHO94xqynUwnGZ8oUvfKHU1tZW2rVr15yvkZTjQjLpJ/rJcu6LfrJf0o7LFP2Ew1Fv/aRU0lOSfu7SU/ZL2nGZoqdwOOqtp+gnV8zYlrTzln6yX9KOy5RG6ydNpVKpFAAAAAAAAEyzBgoAAAAAAEAZAQoAAAAAAEAZAQoAAAAAAEAZAQoAAAAAAEAZAQoAAAAAAEAZAQoAAAAAAEAZAQoAAAAAAEAZAQoAAAAAAEAZAQoAAAAAAEAZAQoAAAAAAEAZAQpUwRNPPBHHHntsfPKTn5zedscdd0QqlYpbbrmlipUBUEv0EwAqQT8BoFL0FOpNU6lUKlW7CGhEP/jBD+L888+PO+64I0466aQ4/fTTY/369XHVVVdVuzQAaoh+AkAl6CcAVIqeQj0RoEAVXXLJJXHzzTfHC1/4wrjvvvvinnvuiZaWlmqXBUCN0U8AqAT9BIBK0VOoFwIUqKLdu3fH85///Hj44YfjF7/4RZx66qnVLgmAGqSfAFAJ+gkAlaKnUC+sgQJVtH379ti5c2fs27cv/uu//qva5QBQo/QTACpBPwGgUvQU6oU7UKBKisVinHHGGXH66afHSSedFFdffXXcd999sWrVqmqXBkAN0U8AqAT9BIBK0VOoJwIUqJIPfvCD8S//8i/xy1/+Mjo6OuKlL31ppNPp+N73vlft0gCoIfoJAJWgnwBQKXoK9cQUXlAFt912W1x99dXxta99Lbq6umLFihXxta99LW6//fa49tprq10eADVCPwGgEvQTACpFT6HeuAMFAAAAAACgjDtQAAAAAAAAyghQAAAAAAAAyghQAAAAAAAAyghQAAAAAAAAyghQAAAAAAAAyghQAAAAAAAAyghQAAAAAAAAyghQAAAAAAAAyghQAAAAAAAAyghQAAAAAAAAyghQAAAAAAAAyghQAAAAAAAAyvz/PAVDisr2MaMAAAAASUVORK5CYII=",
      "text/plain": [
       "<Figure size 2000x500 with 4 Axes>"
      ]
     },
     "metadata": {},
     "output_type": "display_data"
    },
    {
     "data": {
      "text/plain": [
       "{'I': np.float64(0.81642051634484),\n",
       " 'II': np.float64(0.8162365060002428),\n",
       " 'III': np.float64(0.8162867394895984),\n",
       " 'IV': np.float64(0.8165214368885028)}"
      ]
     },
     "execution_count": 51,
     "metadata": {},
     "output_type": "execute_result"
    }
   ],
   "source": [
    "fig, axes = plt.subplots(1, 4, figsize=(20, 5), sharex=True, sharey=True)\n",
    "\n",
    "corrs = {}\n",
    "for ax, id in zip(axes, dataset_ids):\n",
    "    dataset = df[df['dataset'] == id]\n",
    "    sns.scatterplot(ax=ax, x=dataset[\"x\"], y=dataset[\"y\"])\n",
    "    corrs[id] = np.corrcoef(dataset[\"x\"], dataset[\"y\"])[0, 1]\n",
    "\n",
    "plt.show()\n",
    "corrs"
=======
    "# only compute correlation between feature columns\n",
    "df[['lengte', 'schoenmaat']].corr(method='pearson')"
>>>>>>> a458808f55ab66d8895f5e7633d2a81dd9c297a5
   ]
  }
 ],
 "metadata": {
  "kernelspec": {
   "display_name": ".venv",
   "language": "python",
   "name": "python3"
  },
  "language_info": {
   "codemirror_mode": {
    "name": "ipython",
    "version": 3
   },
   "file_extension": ".py",
   "mimetype": "text/x-python",
   "name": "python",
   "nbconvert_exporter": "python",
   "pygments_lexer": "ipython3",
   "version": "3.12.7"
  }
 },
 "nbformat": 4,
 "nbformat_minor": 2
}
